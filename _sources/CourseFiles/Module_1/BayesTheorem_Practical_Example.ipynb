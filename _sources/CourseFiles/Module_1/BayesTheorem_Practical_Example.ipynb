{
 "cells": [
  {
   "cell_type": "markdown",
   "metadata": {},
   "source": [
    "# Understanding Updating Belief Using Bayes Theorem\n",
    "##### Diagnostic Testing Example \n",
    "##### Elan Ness-Cohn"
   ]
  },
  {
   "cell_type": "code",
   "execution_count": 1,
   "metadata": {},
   "outputs": [],
   "source": [
    "# Preamble For Your Code\n",
    "\n",
    "#Don't have a package installed?\n",
    "#type in your terminal: pip3 install numpy\n",
    "\n",
    "import numpy as np\n",
    "import matplotlib.pyplot as plt\n",
    "\n"
   ]
  },
  {
   "cell_type": "markdown",
   "metadata": {},
   "source": [
    "# Population Statistics of Healthy vs Sick"
   ]
  },
  {
   "cell_type": "code",
   "execution_count": 2,
   "metadata": {},
   "outputs": [
    {
     "name": "stdout",
     "output_type": "stream",
     "text": [
      "Population:  10000\n",
      "Sick:  100.0\n",
      "Healthy:  9900.0\n"
     ]
    }
   ],
   "source": [
    "#prob D+\n",
    "p_sick = .01\n",
    "#prob D-\n",
    "p_healthy = 1 - p_sick\n",
    "\n",
    "population = 10000\n",
    "print(\"Population: \", population)\n",
    "#people D+\n",
    "sick = p_sick * population\n",
    "print(\"Sick: \",  sick)\n",
    "#people D-\n",
    "healthy = p_healthy * population\n",
    "print(\"Healthy: \", healthy)"
   ]
  },
  {
   "cell_type": "markdown",
   "metadata": {},
   "source": [
    "# Probabilities of testing positive and negative given the illness"
   ]
  },
  {
   "cell_type": "code",
   "execution_count": 3,
   "metadata": {},
   "outputs": [],
   "source": [
    "#P(+|D+)\n",
    "pos_given_sick = 0.8\n",
    "#P(-|D+)\n",
    "neg_given_sick = 1 - pos_given_sick"
   ]
  },
  {
   "cell_type": "code",
   "execution_count": 4,
   "metadata": {},
   "outputs": [],
   "source": [
    "#P(+|D-)\n",
    "pos_given_healthy = 0.096\n",
    "#P(-|D-)\n",
    "neg_given_healthy = 1 - pos_given_healthy"
   ]
  },
  {
   "cell_type": "code",
   "execution_count": 5,
   "metadata": {},
   "outputs": [
    {
     "name": "stdout",
     "output_type": "stream",
     "text": [
      "TP: 80.0\n",
      "FN: 20.0\n",
      "FP: 950.0\n",
      "TN: 8950.0\n"
     ]
    }
   ],
   "source": [
    "#TP = D+ * P(+|D+)\n",
    "true_pos = sick*pos_given_sick\n",
    "#FN = D+ * P(-|D+)\n",
    "false_neg = sick*neg_given_sick\n",
    "#FP = D- * P(+|D-)\n",
    "false_pos = healthy*pos_given_healthy\n",
    "#TN = D- * P(-|D-)\n",
    "true_neg = healthy*neg_given_healthy\n",
    "\n",
    "#Lets not take part of a person, so lets round\n",
    "print(\"TP:\" , np.round(true_pos))\n",
    "print(\"FN:\" , np.round(false_neg))\n",
    "print(\"FP:\" , np.round(false_pos))\n",
    "print(\"TN:\" , np.round(true_neg))"
   ]
  },
  {
   "cell_type": "markdown",
   "metadata": {},
   "source": [
    "# What is the chances that I have Disease given the test is positive?\n",
    "\n",
    "$p(D^{+}|+) = \\frac{P(+|D^{+})*P(D^{+})}{P(+)}$"
   ]
  },
  {
   "cell_type": "code",
   "execution_count": 6,
   "metadata": {},
   "outputs": [
    {
     "name": "stdout",
     "output_type": "stream",
     "text": [
      "0.07763975155279502\n",
      "0.08\n"
     ]
    }
   ],
   "source": [
    "#TP/(TP+FP)\n",
    "out = true_pos / (true_pos + false_pos)\n",
    "print(out)\n",
    "print(np.round(out, decimals= 2))"
   ]
  },
  {
   "cell_type": "markdown",
   "metadata": {},
   "source": [
    "# What is the chances that I have Disease given the test is positive?\n",
    "\n",
    "$p(D^{+}|+) = \\frac{P(+|D^{+})*P(D^{+})}{P(+)}$"
   ]
  },
  {
   "cell_type": "code",
   "execution_count": 7,
   "metadata": {},
   "outputs": [
    {
     "name": "stdout",
     "output_type": "stream",
     "text": [
      "0.08\n"
     ]
    }
   ],
   "source": [
    "num = pos_given_sick*p_sick \n",
    "denom = pos_given_sick*p_sick + pos_given_healthy*p_healthy\n",
    "p_sick_given_pos = np.round(num/denom, decimals= 2)\n",
    "print(p_sick_given_pos)"
   ]
  },
  {
   "cell_type": "markdown",
   "metadata": {},
   "source": [
    "# What is the chances that I am healthy given that test positive?\n",
    "\n",
    "$p(D^{-}|+) = \\frac{P(+|D^{-})*P(D^{-})}{P(+)}$"
   ]
  },
  {
   "cell_type": "code",
   "execution_count": 8,
   "metadata": {},
   "outputs": [
    {
     "name": "stdout",
     "output_type": "stream",
     "text": [
      "0.92\n",
      "0.92\n"
     ]
    }
   ],
   "source": [
    "num = pos_given_healthy*p_healthy\n",
    "denom = pos_given_sick*p_sick + pos_given_healthy*p_healthy\n",
    "\n",
    "p_healthy_given_pos = np.round(num/denom, decimals= 2)\n",
    "print(p_healthy_given_pos)\n",
    "\n",
    "#or\n",
    "print(1- p_sick_given_pos)"
   ]
  },
  {
   "cell_type": "code",
   "execution_count": 9,
   "metadata": {},
   "outputs": [
    {
     "data": {
      "image/png": "[encoded data removed]",
      "text/plain": [
       "<Figure size 432x288 with 1 Axes>"
      ]
     },
     "metadata": {
      "needs_background": "light"
     },
     "output_type": "display_data"
    }
   ],
   "source": [
    "#Lets Plot the Results\n",
    "\n",
    "plotVals = [p_sick, p_sick_given_pos, p_healthy_given_pos, p_healthy]\n",
    "labels = [\"Sick\",\"Sick given Pos Test\",\"Healthy given Pos Test\",\"Healthy\"]\n",
    "plt.bar(x = labels, height=plotVals)\n",
    "plt.ylabel(\"Probability\")\n",
    "plt.xticks(rotation=45)\n",
    "\n",
    "for index, value in enumerate(plotVals):\n",
    "    plt.text(index, value, str(value), rotation = 0)"
   ]
  },
  {
   "cell_type": "markdown",
   "metadata": {},
   "source": [
    "# What is the chances you are sick given 1-6 positive tests in a row?\n",
    "\n",
    "$p(D^{+}|++) = \\frac{P(++|D^{+})*P(D^{+})}{P(++)}$"
   ]
  },
  {
   "cell_type": "code",
   "execution_count": 14,
   "metadata": {},
   "outputs": [
    {
     "name": "stdout",
     "output_type": "stream",
     "text": [
      "[0.01 0.09 0.47 0.89 0.99 1.  ]\n",
      "[0.99 0.91 0.53 0.11 0.01 0.  ]\n"
     ]
    }
   ],
   "source": [
    "#Initial parameters\n",
    "p_sick = .01\n",
    "p_healthy = 1 - p_sick\n",
    "\n",
    "pos_given_sick = 0.9\n",
    "neg_given_sick = 1 - pos_given_sick\n",
    "\n",
    "pos_given_healthy = 0.096\n",
    "neg_given_healthy = 1 - pos_given_healthy\n",
    "\n",
    "test_Num = 6\n",
    "\n",
    "#create array to hold outputs \n",
    "p_sick_nPos = np.zeros(test_Num)\n",
    "p_healthy_nPos = np.zeros(test_Num)\n",
    "\n",
    "#set initial belief\n",
    "p_sick_nPos[0] = p_sick\n",
    "p_healthy_nPos[0] = p_healthy\n",
    "\n",
    "#update belief after each test\n",
    "for i in np.arange(1,test_Num):\n",
    "    #compute num and denom\n",
    "    num = pos_given_sick * (p_sick)\n",
    "    denom = num + (pos_given_healthy) * (p_healthy)\n",
    "    #update beliefs\n",
    "    p_sick = num/denom\n",
    "    p_healthy = 1 - p_sick\n",
    "    p_sick_nPos[i] = np.round(p_sick, decimals= 2)\n",
    "    p_healthy_nPos[i] = np.round(p_healthy, decimals= 2)\n",
    "    \n",
    "print(p_sick_nPos)\n",
    "print(p_healthy_nPos)"
   ]
  },
  {
   "cell_type": "code",
   "execution_count": 15,
   "metadata": {},
   "outputs": [
    {
     "data": {
      "text/plain": [
       "<matplotlib.legend.Legend at 0x11ebff090>"
      ]
     },
     "execution_count": 15,
     "metadata": {},
     "output_type": "execute_result"
    },
    {
     "data": {
      "image/png": "[encoded data removed]",
      "text/plain": [
       "<Figure size 432x288 with 1 Axes>"
      ]
     },
     "metadata": {
      "needs_background": "light"
     },
     "output_type": "display_data"
    }
   ],
   "source": [
    "#lets plot the results\n",
    "plt.bar(x = np.arange(test_Num), height=p_sick_nPos, alpha=.5)\n",
    "plt.xlabel(\"Probability\")\n",
    "plt.ylabel(\"Number of Tests\")\n",
    "plt.xticks(rotation=0)\n",
    "\n",
    "for index, value in enumerate(p_sick_nPos):\n",
    "    plt.text(index, value, str(value), rotation = 0)\n",
    "    \n",
    "plt.bar(x = np.arange(test_Num), height=p_healthy_nPos, alpha=.5)\n",
    "plt.xlabel(\"Number of Tests\")\n",
    "plt.ylabel(\"Probability\")\n",
    "plt.title(\"Probability of Sick vs Healthy \\n Given Consecutive, Independent Positive Test\")\n",
    "\n",
    "for index, value in enumerate(p_healthy_nPos):\n",
    "    plt.text(index, value, str(value), rotation = 0)\n",
    "\n",
    "plt.plot(np.arange(test_Num),p_sick_nPos)\n",
    "plt.plot(np.arange(test_Num),p_healthy_nPos)\n",
    "plt.legend(labels = [\"Sick\", 'Healthy'], loc = 7)"
   ]
  },
  {
   "cell_type": "markdown",
   "metadata": {},
   "source": [
    "# What If we wanted to Run This Test Sweeping a Range of Parameters?\n",
    "i.e See how the True Positive and False Positive rates effect testing results"
   ]
  },
  {
   "cell_type": "code",
   "execution_count": 25,
   "metadata": {},
   "outputs": [],
   "source": [
    "# let's turn the test and plotting into a function so we can easily manipulate the input variables!\n",
    "# we can easily turn our above \"rapid prototyping\" code into functions by determining which \n",
    "# variable we want to manipulate\n",
    "# Note that I copy and pasted with MINOR edits (denoted by ***)\n",
    "\n",
    "def p_Sick_Test_Tracker(p_sick, pos_given_sick, pos_given_healthy, test_Num):\n",
    "    '''\n",
    "    input:\n",
    "        p_sick = Probability of being sick\n",
    "        pos_given_sick = True Positive Rate = Probability of Positive test given sick\n",
    "        pos_given_healthy = False Positive Rate = Probability of Positive test given Healthy\n",
    "        test_Num = Number of tests preformed\n",
    "    out: \n",
    "        List \n",
    "        [1] probability of sick being given n Positive tests\n",
    "        [2] probability of healthy being given n Positive tests\n",
    "    '''\n",
    "    \n",
    "    #Initial parameters\n",
    "    #*** removed assignments lines that are now defined by the Function\n",
    "    p_healthy = 1 - p_sick\n",
    "    neg_given_sick = 1 - pos_given_sick\n",
    "    neg_given_healthy = 1 - pos_given_healthy\n",
    "\n",
    "    #create array to hold outputs \n",
    "    p_sick_nPos = np.zeros(test_Num)\n",
    "    p_healthy_nPos = np.zeros(test_Num)\n",
    "\n",
    "    #set initial belief\n",
    "    p_sick_nPos[0] = p_sick\n",
    "    p_healthy_nPos[0] = p_healthy\n",
    "\n",
    "    #update belief after each test\n",
    "    for i in np.arange(1,test_Num):\n",
    "        #compute num and denom\n",
    "        num = pos_given_sick * (p_sick)\n",
    "        denom = num + (pos_given_healthy) * (p_healthy)\n",
    "        #update beliefs\n",
    "        p_sick = num/denom\n",
    "        p_healthy = 1 - p_sick\n",
    "        p_sick_nPos[i] = np.round(p_sick, decimals= 2)\n",
    "        p_healthy_nPos[i] = np.round(p_healthy, decimals= 2)\n",
    "\n",
    "    #*** return the resutls instead of printing\n",
    "    return(np.round([p_sick_nPos, p_healthy_nPos], decimals= 3))\n",
    "\n",
    "\n",
    "def plot_Sick_Test_Tracker(p_sick_nPos,p_healthy_nPos):\n",
    "    '''\n",
    "    input:\n",
    "        p_sick_nPos = array of probability of sick being given n Positive tests\n",
    "        p_healthy_nPos = probability of healthy being given n Positive tests\n",
    "    out: \n",
    "        Bar Plot\n",
    "    '''\n",
    "    #*** assigned test_Num by the length of p_sick_nPos \n",
    "    test_Num = len(p_sick_nPos)\n",
    "    plt.bar(x = np.arange(test_Num), height=p_sick_nPos, alpha=.5)\n",
    "    plt.xlabel(\"Probability\")\n",
    "    plt.ylabel(\"Number of Tests\")\n",
    "    plt.xticks(rotation=0)\n",
    "\n",
    "    for index, value in enumerate(p_sick_nPos):\n",
    "        plt.text(index, value, str(value), rotation = 0)\n",
    "\n",
    "    plt.bar(x = np.arange(test_Num), height=p_healthy_nPos, alpha=.5)\n",
    "    plt.xlabel(\"Number of Tests\")\n",
    "    plt.ylabel(\"Probability\")\n",
    "    plt.title(\"Probability of Sick vs Healthy \\n Given Consecutive, Independent Positive Test\")\n",
    "\n",
    "\n",
    "    for index, value in enumerate(p_healthy_nPos):\n",
    "        plt.text(index, value, str(value), rotation = 0)\n",
    "\n",
    "    plt.plot(np.arange(test_Num),p_sick_nPos)\n",
    "    plt.plot(np.arange(test_Num),p_healthy_nPos)\n",
    "    plt.legend(labels = [\"Sick\", 'Healthy'], loc = 7)\n",
    "    return(plt.show)"
   ]
  },
  {
   "cell_type": "markdown",
   "metadata": {},
   "source": [
    "# Test Away to you Hearts Content with REAL Data!"
   ]
  },
  {
   "cell_type": "code",
   "execution_count": 28,
   "metadata": {},
   "outputs": [
    {
     "name": "stdout",
     "output_type": "stream",
     "text": [
      "0.003076923076923077\n"
     ]
    },
    {
     "data": {
      "image/png": "[encoded data removed]",
      "text/plain": [
       "<Figure size 432x288 with 1 Axes>"
      ]
     },
     "metadata": {
      "needs_background": "light"
     },
     "output_type": "display_data"
    }
   ],
   "source": [
    "# Lets do a real world example looking at HIV rates in the US for any random person\n",
    "\n",
    "# At the end of 2017, there were 1,018,346 adults and adolescents with diagnosed HIV in the US and dependent areas\n",
    "# https://www.cdc.gov/hiv/statistics/overview/index.html\n",
    "\n",
    "# There is ~324.5 million people in the US (2017)\n",
    "# https://www.census.gov/popclock/\n",
    "\n",
    "#The insti-rapid Hiv1/2 test antibody test\n",
    "#True Positive Rate = 99.7%\n",
    "#False Positive Rate = 0.3%\n",
    "0.03\n",
    "#https://www.who.int/diagnostics_laboratory/evaluations/191111_amended_final_pqpr_0002_002_00_v5.pdf\n",
    "\n",
    "paramTest = p_Sick_Test_Tracker(p_sick = 1/325, \n",
    "                                pos_given_sick = .997, \n",
    "                                pos_given_healthy = 0.003, \n",
    "                                test_Num = 7)\n",
    "\n",
    "plot_Sick_Test_Tracker(paramTest[0],paramTest[1])\n",
    "\n",
    "# Note this is for a RANDOM Person in the US going in to get a test.\n",
    "# An Individual who thinks they actually have HIV (i.e. they were exposed) has a different initial belief that \n",
    "# are sick. Their specific p_sick is larger and we can be more confident in the test.\n"
   ]
  },
  {
   "cell_type": "markdown",
   "metadata": {},
   "source": [
    "# Go Further: Try writting code to test 9 differnt parameter combinations with 5 positive tests each.\n",
    " Plot the results in a 9X9 Gride"
   ]
  },
  {
   "cell_type": "code",
   "execution_count": null,
   "metadata": {},
   "outputs": [],
   "source": []
  }
 ],
 "metadata": {
  "hide_input": false,
  "kernelspec": {
   "display_name": "Python 3",
   "language": "python",
   "name": "python3"
  },
  "language_info": {
   "codemirror_mode": {
    "name": "ipython",
    "version": 3
   },
   "file_extension": ".py",
   "mimetype": "text/x-python",
   "name": "python",
   "nbconvert_exporter": "python",
   "pygments_lexer": "ipython3",
   "version": "3.6.8"
  },
  "latex_envs": {
   "LaTeX_envs_menu_present": true,
   "autoclose": false,
   "autocomplete": true,
   "bibliofile": "biblio.bib",
   "cite_by": "apalike",
   "current_citInitial": 1,
   "eqLabelWithNumbers": true,
   "eqNumInitial": 1,
   "hotkeys": {
    "equation": "Ctrl-E",
    "itemize": "Ctrl-I"
   },
   "labels_anchors": false,
   "latex_user_defs": false,
   "report_style_numbering": false,
   "user_envs_cfg": false
  },
  "toc": {
   "base_numbering": 1,
   "nav_menu": {},
   "number_sections": true,
   "sideBar": false,
   "skip_h1_title": false,
   "title_cell": "Table of Contents",
   "title_sidebar": "Contents",
   "toc_cell": false,
   "toc_position": {},
   "toc_section_display": true,
   "toc_window_display": false
  },
  "varInspector": {
   "cols": {
    "lenName": 16,
    "lenType": 16,
    "lenVar": 40
   },
   "kernels_config": {
    "python": {
     "delete_cmd_postfix": "",
     "delete_cmd_prefix": "del ",
     "library": "var_list.py",
     "varRefreshCmd": "print(var_dic_list())"
    },
    "r": {
     "delete_cmd_postfix": ") ",
     "delete_cmd_prefix": "rm(",
     "library": "var_list.r",
     "varRefreshCmd": "cat(var_dic_list()) "
    }
   },
   "types_to_exclude": [
    "module",
    "function",
    "builtin_function_or_method",
    "instance",
    "_Feature"
   ],
   "window_display": false
  }
 },
 "nbformat": 4,
 "nbformat_minor": 4
}
