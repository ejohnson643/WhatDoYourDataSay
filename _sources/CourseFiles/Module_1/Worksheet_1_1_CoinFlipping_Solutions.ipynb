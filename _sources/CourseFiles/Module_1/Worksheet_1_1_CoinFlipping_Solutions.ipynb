{
 "cells": [
  {
   "cell_type": "markdown",
   "metadata": {},
   "source": [
    "# SOLUTIONS to Worksheet 1.1: Coin Tossing\n",
    "\n",
    "Solutions by Eric Johnson\n",
    "\n",
    "These are solutions to Worksheet 1.1 that I am also using as an example of how to type and format **completed solutions** to assignments.  The main deliverable for the assignments is a more terse report-style PDF, but the code used to generate that PDF must also be turned in.  This is an example of what such code could look like.  \n",
    "\n",
    "In particular, this notebook will **always indicate what problem** we're working on!  We may penalize assignments that have code that we cannot parse.  This is not meant to be overly prescriptive about things, but is a bare minimum requirement that we have discovered over teaching this course many times.  In this example, I am going to copy the questions over - I personally find this useful to remember what I'm doing - but you only need to give the problem number.\n",
    "\n",
    "Also! Please restart and re-run your entire notebook before submitting by going to the menu: Kernel > Restart and Run All"
   ]
  },
  {
   "cell_type": "code",
   "execution_count": 1,
   "metadata": {
    "ExecuteTime": {
     "end_time": "2020-09-18T20:43:44.144620Z",
     "start_time": "2020-09-18T20:43:44.090305Z"
    }
   },
   "outputs": [],
   "source": [
    "import numpy as np\n",
    "import matplotlib.pyplot as plt\n",
    "import seaborn as sns\n",
    "sns.set(color_codes=True)\n",
    "\n",
    "%matplotlib inline\n",
    "\n",
    "## Setting the seed so that the output is the same everytime.\n",
    "## Don't do this until you're done messing around and want to start \n",
    "## writing things up!\n",
    "np.random.seed(123456789)"
   ]
  },
  {
   "cell_type": "markdown",
   "metadata": {},
   "source": [
    "> **Problem 1.** As introduced in the tutorial, the basic random number generator in Python is the `np.random.rand` function.\n",
    "> \n",
    "> **Problem  1.a.** Use the `help()` function to read about the various arguments and keyword arguments that `np.random.rand` takes.  Describe how to use this funtion in your own words.\n",
    "\n",
    "It seems like `rand` gives uniform random numbers between 0 and 1 based on an input shape."
   ]
  },
  {
   "cell_type": "code",
   "execution_count": 2,
   "metadata": {
    "ExecuteTime": {
     "end_time": "2020-09-18T20:43:44.193717Z",
     "start_time": "2020-09-18T20:43:44.146954Z"
    }
   },
   "outputs": [
    {
     "name": "stdout",
     "output_type": "stream",
     "text": [
      "Help on built-in function rand:\n",
      "\n",
      "rand(...) method of numpy.random.mtrand.RandomState instance\n",
      "    rand(d0, d1, ..., dn)\n",
      "    \n",
      "    Random values in a given shape.\n",
      "    \n",
      "    .. note::\n",
      "        This is a convenience function for users porting code from Matlab,\n",
      "        and wraps `random_sample`. That function takes a\n",
      "        tuple to specify the size of the output, which is consistent with\n",
      "        other NumPy functions like `numpy.zeros` and `numpy.ones`.\n",
      "    \n",
      "    Create an array of the given shape and populate it with\n",
      "    random samples from a uniform distribution\n",
      "    over ``[0, 1)``.\n",
      "    \n",
      "    Parameters\n",
      "    ----------\n",
      "    d0, d1, ..., dn : int, optional\n",
      "        The dimensions of the returned array, must be non-negative.\n",
      "        If no argument is given a single Python float is returned.\n",
      "    \n",
      "    Returns\n",
      "    -------\n",
      "    out : ndarray, shape ``(d0, d1, ..., dn)``\n",
      "        Random values.\n",
      "    \n",
      "    See Also\n",
      "    --------\n",
      "    random\n",
      "    \n",
      "    Examples\n",
      "    --------\n",
      "    >>> np.random.rand(3,2)\n",
      "    array([[ 0.14022471,  0.96360618],  #random\n",
      "           [ 0.37601032,  0.25528411],  #random\n",
      "           [ 0.49313049,  0.94909878]]) #random\n",
      "\n"
     ]
    }
   ],
   "source": [
    "help(np.random.rand)"
   ]
  },
  {
   "cell_type": "markdown",
   "metadata": {},
   "source": [
    "> **Problem 1.b.**  Generate many random numbers (how many is \"many\"?) and print their maximum and minimum to the screen.  How many of your numbers are bigger than 0.5?  How many are bigger than 0.6?  0.95?\n",
    "\n",
    "I think \"many\" can be a big number, so let's do a million."
   ]
  },
  {
   "cell_type": "code",
   "execution_count": 3,
   "metadata": {
    "ExecuteTime": {
     "end_time": "2020-09-18T20:43:44.265416Z",
     "start_time": "2020-09-18T20:43:44.196132Z"
    }
   },
   "outputs": [
    {
     "name": "stdout",
     "output_type": "stream",
     "text": [
      "There are 499202 random numbers bigger than 0.5\n",
      "There are 399945 random numbers bigger than 0.6\n",
      "There are 49940 random numbers bigger than 0.95\n"
     ]
    }
   ],
   "source": [
    "N = 1000000\n",
    "rands = np.random.rand(N)\n",
    "\n",
    "bigger_than_5 = np.sum(rands > 0.5)\n",
    "bigger_than_6 = np.sum(rands > 0.6)\n",
    "bigger_than_95 = np.sum(rands > 0.95)\n",
    "\n",
    "print(f\"There are {bigger_than_5} random numbers bigger than 0.5\")\n",
    "print(f\"There are {bigger_than_6} random numbers bigger than 0.6\")\n",
    "print(f\"There are {bigger_than_95} random numbers bigger than 0.95\")"
   ]
  },
  {
   "cell_type": "markdown",
   "metadata": {
    "hideOutput": true
   },
   "source": [
    "> **Problem 1.c.** Based on your generated numbers, what is the likelihood of getting a number bigger than 0.75?\n",
    "\n",
    "The probability should just be the fraction that are bigger:"
   ]
  },
  {
   "cell_type": "code",
   "execution_count": 4,
   "metadata": {
    "ExecuteTime": {
     "end_time": "2020-09-18T20:43:44.315417Z",
     "start_time": "2020-09-18T20:43:44.268061Z"
    }
   },
   "outputs": [
    {
     "name": "stdout",
     "output_type": "stream",
     "text": [
      "The probability of getting a number bigger than 0.75 is 24.983800%\n"
     ]
    }
   ],
   "source": [
    "prob_075 = np.sum(rands > 0.75) / N\n",
    "print(f\"The probability of getting a number bigger than 0.75 is {prob_075:%}\")"
   ]
  },
  {
   "cell_type": "markdown",
   "metadata": {},
   "source": [
    "> **Problem 1.d.** To what number would I want to compare my random numbers so that 60\\% of the time I get a `True` and the rest of the time I get a `False`?\n",
    "\n",
    "As we can see from the previous problem, we can use 0.6 as a threshold to compare our numbers to.  That is, if we ask `random_number < 0.6`, then 60% of the time we'll get True and 40% False."
   ]
  },
  {
   "cell_type": "markdown",
   "metadata": {},
   "source": [
    "> **Problem 1.e.** Explain in words how you can use `np.random.rand` to simulate a coin where $P(\\text{Heads}) = 0.6$.\n",
    "\n",
    "See previous answer except that now we interpret True as being a Heads and False as being Tails."
   ]
  },
  {
   "cell_type": "markdown",
   "metadata": {},
   "source": [
    "> **Problem 2.**  As pointed out in the course notes, flipping one coin isn't that exciting, but flipping many coins can be very exciting!\n",
    "> \n",
    "> **Problem 2.a.**  Again using $p=P(\\text{Heads}) = 0.6$, flip $N = 10$ coins.  \n",
    "\n",
    "We can use our plan from the previous problem: draw 10 random numbers, compare them to 0.6, and interpret heads as True and Tails as False."
   ]
  },
  {
   "cell_type": "code",
   "execution_count": 5,
   "metadata": {
    "ExecuteTime": {
     "end_time": "2020-09-18T20:43:44.363792Z",
     "start_time": "2020-09-18T20:43:44.317141Z"
    }
   },
   "outputs": [
    {
     "name": "stdout",
     "output_type": "stream",
     "text": [
      "0.9537 >= 0.6 so the coin toss yielded Tails!\n",
      "0.9805 >= 0.6 so the coin toss yielded Tails!\n",
      "0.2880 <  0.6 so the coin toss yielded Heads!\n",
      "0.0471 <  0.6 so the coin toss yielded Heads!\n",
      "0.4702 <  0.6 so the coin toss yielded Heads!\n",
      "0.0805 <  0.6 so the coin toss yielded Heads!\n",
      "0.4765 <  0.6 so the coin toss yielded Heads!\n",
      "0.2317 <  0.6 so the coin toss yielded Heads!\n",
      "0.2091 <  0.6 so the coin toss yielded Heads!\n",
      "0.0027 <  0.6 so the coin toss yielded Heads!\n"
     ]
    }
   ],
   "source": [
    "N_coins = 10\n",
    "p = 0.6\n",
    "flips = np.random.rand(N_coins)\n",
    "heads = flips < p\n",
    "\n",
    "for ii in range(N_coins):\n",
    "    if heads[ii]:\n",
    "        print(f\"{flips[ii]:.4f} <  0.6 so the coin toss yielded Heads!\")\n",
    "    else:\n",
    "        print(f\"{flips[ii]:.4f} >= 0.6 so the coin toss yielded Tails!\")"
   ]
  },
  {
   "cell_type": "markdown",
   "metadata": {},
   "source": [
    "> **Problem 2.b.** Count the number of heads."
   ]
  },
  {
   "cell_type": "code",
   "execution_count": 6,
   "metadata": {
    "ExecuteTime": {
     "end_time": "2020-09-18T20:43:44.409670Z",
     "start_time": "2020-09-18T20:43:44.366142Z"
    }
   },
   "outputs": [
    {
     "name": "stdout",
     "output_type": "stream",
     "text": [
      "There were 8 heads!\n"
     ]
    }
   ],
   "source": [
    "print(f\"There were {np.sum(heads)} heads!\")"
   ]
  },
  {
   "cell_type": "markdown",
   "metadata": {},
   "source": [
    "> **Problem 2.c.** Write a **function** that returns the number of heads in $N$ flips of a coin with $p = P(\\text{Heads})$.  That is, $N$ and $p$ are **inputs** (arguments) to your function and $k=$ the number of heads is the **output**."
   ]
  },
  {
   "cell_type": "code",
   "execution_count": 7,
   "metadata": {
    "ExecuteTime": {
     "end_time": "2020-09-18T20:43:44.459196Z",
     "start_time": "2020-09-18T20:43:44.412186Z"
    }
   },
   "outputs": [
    {
     "name": "stdout",
     "output_type": "stream",
     "text": [
      "Out of 10 flips, 6 were heads!\n",
      "Out of 100 flips, 15 were heads!\n",
      "Out of 245 flips, 98 were heads!\n"
     ]
    }
   ],
   "source": [
    "def coin_flipper(N_coins, p_heads):\n",
    "    \"\"\"Simulate 'N_coins' tosses of a coin with 'p_heads' probability of\n",
    "    heads to get the number of heads.\n",
    "    \n",
    "    This function draws 'N_coins' uniform random numbers at once and then\n",
    "    uses logical comparison to see if they are less than 'p_heads'.  We\n",
    "    can then add up all the Trues to get the number of Heads!\n",
    "    \n",
    "    Inputs:\n",
    "    =======\n",
    "    N_coins: (integer) Number of coins to flip\n",
    "    p_heads: (float) Probability of individual flip being Heads\n",
    "    \n",
    "    Outputs:\n",
    "    ========\n",
    "    N_heads: (integer) Number of flips that were heads.\n",
    "    \"\"\"\n",
    "    \n",
    "    ## \"Flip\" N_coins coins.\n",
    "    flips = np.random.rand(N_coins)\n",
    "    \n",
    "    ## See if they were heads\n",
    "    is_heads = flips < p_heads\n",
    "    \n",
    "    ## Count the number of heads\n",
    "    N_heads = np.sum(is_heads)\n",
    "    \n",
    "    return N_heads\n",
    "\n",
    "## Let's test our new function!\n",
    "N_coins = [10, 100, 245]\n",
    "p_heads = [0.6, 0.2, 0.4]\n",
    "\n",
    "for ii in range(3):\n",
    "    ## Does it work??\n",
    "    N_heads = coin_flipper(N_coins[ii], p_heads[ii])\n",
    "    \n",
    "    ## Seems to!\n",
    "    print(f\"Out of {N_coins[ii]} flips, {N_heads} were heads!\")"
   ]
  },
  {
   "cell_type": "markdown",
   "metadata": {},
   "source": [
    "> **Problem 2.d.** **Bonus:** Describe your function and write a [docstring](https://www.python.org/dev/peps/pep-0257/).  Consider the following questions: How did you choose to count the number of heads in your coin tosses?  What are other ways you could have done this?  Do you flip all your coins at once or one at a time?  Does your function check the inputs to make sure they're the correct type or value?\n",
    "\n",
    "See the function above for an example!"
   ]
  },
  {
   "cell_type": "markdown",
   "metadata": {},
   "source": [
    "> **Problem 3.** Let $Y$ be the random variable corresponding to the number of heads generated in an \"experiment\" of flipping $N=10$ coins, where each coin has $P(\\text{Heads}) = 0.6$.  Repeat this experiment $M=100$ times, saving the outcome each time."
   ]
  },
  {
   "cell_type": "code",
   "execution_count": 8,
   "metadata": {
    "ExecuteTime": {
     "end_time": "2020-09-18T20:43:44.506509Z",
     "start_time": "2020-09-18T20:43:44.461215Z"
    }
   },
   "outputs": [],
   "source": [
    "## Set our parameters\n",
    "N_exp = 100\n",
    "N_coins = 10\n",
    "p_heads = 0.6\n",
    "\n",
    "## Initialize the output\n",
    "obs_heads = np.zeros(N_exp)\n",
    "\n",
    "## Loop to do many experiments!\n",
    "for expNo in range(N_exp):\n",
    "    obs_heads[expNo] = coin_flipper(N_coins, p_heads)"
   ]
  },
  {
   "cell_type": "markdown",
   "metadata": {},
   "source": [
    "> **Problem 4.** Let's explore the data (!?) you just generated.\n",
    ">\n",
    "> **Problem 4.a.** What are the maximal and minimal numbers of heads that you observed in your experiments?"
   ]
  },
  {
   "cell_type": "code",
   "execution_count": 9,
   "metadata": {
    "ExecuteTime": {
     "end_time": "2020-09-18T20:43:44.552323Z",
     "start_time": "2020-09-18T20:43:44.508573Z"
    }
   },
   "outputs": [
    {
     "name": "stdout",
     "output_type": "stream",
     "text": [
      "The fewest heads observed was 2.0\n",
      "The most heads observed was 10.0\n"
     ]
    }
   ],
   "source": [
    "print(f\"The fewest heads observed was {obs_heads.min()}\")\n",
    "print(f\"The most heads observed was {obs_heads.max()}\")"
   ]
  },
  {
   "cell_type": "markdown",
   "metadata": {},
   "source": [
    "> **Problem 4.b.** How many unique values are there in your dataset (Hint: `np.unique`)?"
   ]
  },
  {
   "cell_type": "code",
   "execution_count": 10,
   "metadata": {
    "ExecuteTime": {
     "end_time": "2020-09-18T20:43:44.598687Z",
     "start_time": "2020-09-18T20:43:44.554149Z"
    }
   },
   "outputs": [
    {
     "name": "stdout",
     "output_type": "stream",
     "text": [
      "There were 9 unique outcomes:\n",
      "[ 2.  3.  4.  5.  6.  7.  8.  9. 10.]\n"
     ]
    }
   ],
   "source": [
    "unique_outcomes = np.unique(obs_heads)\n",
    "print(f\"There were {len(unique_outcomes)} unique outcomes:\")\n",
    "print(unique_outcomes)"
   ]
  },
  {
   "cell_type": "markdown",
   "metadata": {},
   "source": [
    "> **Problem 4.c.** How many times do you observe 0 heads, 1 heads, 2 heads, etc.?  What would be an appropriate diagram with which to display this information?\n",
    "\n",
    "We should probably use a histogram, but for now we can just print off the results by looping through the possible outcomes (0 heads to 10 heads) and counting how many experiments yielded that result."
   ]
  },
  {
   "cell_type": "code",
   "execution_count": 11,
   "metadata": {
    "ExecuteTime": {
     "end_time": "2020-09-18T20:43:44.645760Z",
     "start_time": "2020-09-18T20:43:44.600650Z"
    }
   },
   "outputs": [
    {
     "name": "stdout",
     "output_type": "stream",
     "text": [
      "There were 0 experiments with 0 Heads!\n",
      "There were 0 experiments with 1 Heads!\n",
      "There were 1 experiments with 2 Heads!\n",
      "There were 4 experiments with 3 Heads!\n",
      "There were 10 experiments with 4 Heads!\n",
      "There were 19 experiments with 5 Heads!\n",
      "There were 26 experiments with 6 Heads!\n",
      "There were 21 experiments with 7 Heads!\n",
      "There were 16 experiments with 8 Heads!\n",
      "There were 1 experiments with 9 Heads!\n",
      "There were 2 experiments with 10 Heads!\n"
     ]
    }
   ],
   "source": [
    "for outcome in range(N_coins + 1):\n",
    "    N_matching = np.sum(obs_heads == outcome)\n",
    "    print(f\"There were {N_matching} experiments with {outcome} Heads!\")"
   ]
  },
  {
   "cell_type": "markdown",
   "metadata": {},
   "source": [
    "> **Problem 4.d.** Create a figure that shows your **frequency distribution**.  Label the axes and if necessary, provide a legend or annotate your figure.  Make sure the $y$-axis is scaled and labeled so that it is easy to read off how many times you observed each number of heads.\n",
    "\n",
    "We can repurpose the loop above to save the results.  We can then use a bar plot to plot the frequency distribution."
   ]
  },
  {
   "cell_type": "code",
   "execution_count": 12,
   "metadata": {
    "ExecuteTime": {
     "end_time": "2020-09-18T20:43:46.770899Z",
     "start_time": "2020-09-18T20:43:44.647927Z"
    }
   },
   "outputs": [
    {
     "data": {
      "image/png": "[encoded data removed]",
      "text/plain": [
       "<Figure size 864x504 with 1 Axes>"
      ]
     },
     "metadata": {
      "needs_background": "light"
     },
     "output_type": "display_data"
    }
   ],
   "source": [
    "outcomes = np.arange(N_coins + 1)\n",
    "N_obs_outcomes = np.zeros_like(outcomes)\n",
    "for outcome in outcomes:\n",
    "    N_matching = np.sum(obs_heads == outcome)\n",
    "    N_obs_outcomes[outcome] = N_matching\n",
    "    \n",
    "fig, ax = plt.subplots(1, 1, figsize=(12, 7))\n",
    "\n",
    "_ = ax.bar(outcomes, N_obs_outcomes, width=1)\n",
    "\n",
    "_ = ax.set_xlabel(\"Number of Heads\", fontsize=16)\n",
    "_ = ax.set_ylabel(\"Number of Times Observed\", fontsize=16)\n",
    "\n",
    "_ = ax.set_xticks(outcomes)\n",
    "\n",
    "\n",
    "fig.tight_layout()\n",
    "fig.savefig(\"UNAnnotated_CoinFlip_Histogram.png\", format='png', dpi=600)"
   ]
  },
  {
   "cell_type": "markdown",
   "metadata": {},
   "source": [
    "> **Problem 4.e.** Describe your distribution qualitatively.  Estimate the mean, median, and mode by eye. \n",
    "\n",
    "The distribution seems to be unimodal centered between 5 and 7.  The mean and median are probably ~6, but the mode is 6."
   ]
  },
  {
   "cell_type": "markdown",
   "metadata": {},
   "source": [
    "> **Problem 5.** It's often useful to annotate your figures with relevant calculations or quantities.  Let's do that here.\n",
    "> \n",
    "> **Problem 5.a.** Using either `np.mean` or the formula for expected value, calculate the mean, $\\mu$ of your observations.  Display this value on your figure using the `plt.vlines` function and using a `legend` or `plt.text`."
   ]
  },
  {
   "cell_type": "code",
   "execution_count": 13,
   "metadata": {
    "ExecuteTime": {
     "end_time": "2020-09-18T20:43:46.823460Z",
     "start_time": "2020-09-18T20:43:46.772846Z"
    }
   },
   "outputs": [
    {
     "name": "stdout",
     "output_type": "stream",
     "text": [
      "The mean number of heads is 6.09\n"
     ]
    }
   ],
   "source": [
    "mean_N_heads = np.mean(obs_heads)\n",
    "print(f\"The mean number of heads is {mean_N_heads}\")"
   ]
  },
  {
   "cell_type": "markdown",
   "metadata": {},
   "source": [
    "> **Problem 5.b.** Using either `np.median` or some other method, calculate the median of your observations and display the value on your figure."
   ]
  },
  {
   "cell_type": "code",
   "execution_count": 14,
   "metadata": {
    "ExecuteTime": {
     "end_time": "2020-09-18T20:43:46.906525Z",
     "start_time": "2020-09-18T20:43:46.829998Z"
    }
   },
   "outputs": [
    {
     "name": "stdout",
     "output_type": "stream",
     "text": [
      "The median number of heads is 6.0\n"
     ]
    }
   ],
   "source": [
    "median_N_heads = np.median(obs_heads)\n",
    "print(f\"The median number of heads is {median_N_heads}\")"
   ]
  },
  {
   "cell_type": "markdown",
   "metadata": {},
   "source": [
    "> **Problem 5.c.** Calculate the mode of your observations and display the value on your figure."
   ]
  },
  {
   "cell_type": "code",
   "execution_count": 15,
   "metadata": {
    "ExecuteTime": {
     "end_time": "2020-09-18T20:43:46.986257Z",
     "start_time": "2020-09-18T20:43:46.911660Z"
    }
   },
   "outputs": [
    {
     "name": "stdout",
     "output_type": "stream",
     "text": [
      "The mode of the number of heads is 6\n"
     ]
    }
   ],
   "source": [
    "mode_N_heads = outcomes[N_obs_outcomes == N_obs_outcomes.max()][0]\n",
    "\n",
    "print(f\"The mode of the number of heads is {mode_N_heads}\")"
   ]
  },
  {
   "cell_type": "markdown",
   "metadata": {},
   "source": [
    "> **Problem 5.d.** Calculate the standard deviation, $\\sigma$ of your observations either by using the formula for variance or the `np.std` function.  Display $\\mu\\pm\\sigma$ using `plt.vlines` and annotate the value of $\\sigma$ in a legend or using `plt.text`."
   ]
  },
  {
   "cell_type": "code",
   "execution_count": 16,
   "metadata": {
    "ExecuteTime": {
     "end_time": "2020-09-18T20:43:47.052574Z",
     "start_time": "2020-09-18T20:43:46.988908Z"
    }
   },
   "outputs": [
    {
     "name": "stdout",
     "output_type": "stream",
     "text": [
      "The standard deviation of the number of heads is 1.5368474224853943\n"
     ]
    }
   ],
   "source": [
    "std_N_heads = np.std(obs_heads)\n",
    "\n",
    "print(f\"The standard deviation of the number of heads is {std_N_heads}\")"
   ]
  },
  {
   "cell_type": "markdown",
   "metadata": {},
   "source": [
    "> **Problem 5.e. BONUS:** Use the `axes.get_ylim` and `axes.set_ylim` functions to control the range of your `plt.vlines` function and to preserve the $y$-axis range of your figure.\n",
    "\n",
    "Since I wrote this worksheet, I have learned about the `plt.axvline` function that does this for you automatically!  I'll show how both can be used."
   ]
  },
  {
   "cell_type": "code",
   "execution_count": 17,
   "metadata": {
    "ExecuteTime": {
     "end_time": "2020-09-18T20:43:49.242685Z",
     "start_time": "2020-09-18T20:43:47.054442Z"
    }
   },
   "outputs": [
    {
     "data": {
      "image/png": "[encoded data removed]",
      "text/plain": [
       "<Figure size 864x504 with 1 Axes>"
      ]
     },
     "metadata": {
      "needs_background": "light"
     },
     "output_type": "display_data"
    }
   ],
   "source": [
    "fig, ax = plt.subplots(1, 1, figsize=(12, 7))\n",
    "\n",
    "_ = ax.bar(outcomes, N_obs_outcomes, width=1, label='Data')\n",
    "\n",
    "ylim = ax.get_ylim()\n",
    "\n",
    "_ = ax.vlines(mean_N_heads, ymin=ylim[0], ymax=ylim[1], color='r',\n",
    "              label=f\"Mean = {mean_N_heads:.2f}\")\n",
    "\n",
    "_ = ax.set_ylim(ylim)\n",
    "\n",
    "_ = ax.axvline(median_N_heads, color='purple',\n",
    "               label=f\"Median = {median_N_heads:.2f}\")\n",
    "\n",
    "_ = ax.axvline(mode_N_heads, color='yellow',\n",
    "               label=f\"Mode = {mode_N_heads:.2f}\")\n",
    "\n",
    "_ = ax.axvline(mean_N_heads-std_N_heads,\n",
    "               color='orange',\n",
    "               label=f\"Std Dev = {std_N_heads:.2f}\")\n",
    "_ = ax.axvline(mean_N_heads+std_N_heads,\n",
    "               color='orange')\n",
    "\n",
    "_ = ax.set_xlabel(\"Number of Heads\", fontsize=24)\n",
    "_ = ax.set_ylabel(\"Number of Times Observed\", fontsize=24)\n",
    "\n",
    "_ = ax.legend(fontsize=16)\n",
    "\n",
    "_ = ax.set_xticks(outcomes)\n",
    "\n",
    "fig.tight_layout()\n",
    "fig.savefig(\"Annotated_CoinFlip_Histogram.png\", format='png', dpi=600)"
   ]
  },
  {
   "cell_type": "markdown",
   "metadata": {},
   "source": [
    "> **Problem 6.**  As noted above, the quantity you should be working with is a *frequency distribution*, so how can we make it a *probability distribution*?\n",
    "> \n",
    "> **Problem 6.a.** Make a list of the different outcomes and the number of times each outcome is observed.  You should try to do this \"by hand\", but you can also look at `np.histogram` or `plt.hist`.  Make sure that both sets of outputs are *integers*.\n",
    "\n",
    "We did this above, but we can compare to `np.histogram` as well.  Notice that this function does not know that the outcomes must be integers and tries to infer the bins from the data."
   ]
  },
  {
   "cell_type": "code",
   "execution_count": 18,
   "metadata": {
    "ExecuteTime": {
     "end_time": "2020-09-18T20:43:49.297786Z",
     "start_time": "2020-09-18T20:43:49.244609Z"
    }
   },
   "outputs": [
    {
     "name": "stdout",
     "output_type": "stream",
     "text": [
      "There were 1 exps with k in [2, 2.8]\n",
      "There were 4 exps with k in [2.8, 3.6]\n",
      "There were 10 exps with k in [3.6, 4.4]\n",
      "There were 19 exps with k in [4.4, 5.2]\n",
      "There were 0 exps with k in [5.2, 6]\n",
      "There were 26 exps with k in [6, 6.8]\n",
      "There were 21 exps with k in [6.8, 7.6]\n",
      "There were 16 exps with k in [7.6, 8.4]\n",
      "There were 1 exps with k in [8.4, 9.2]\n",
      "There were 2 exps with k in [9.2, 10]\n"
     ]
    }
   ],
   "source": [
    "freqs, bins = np.histogram(obs_heads)\n",
    "\n",
    "for ii in range(len(freqs)):\n",
    "    print(f\"There were {freqs[ii]} exps with k in [{bins[ii]:.2g}, {bins[ii+1]:.2g}]\")"
   ]
  },
  {
   "cell_type": "markdown",
   "metadata": {},
   "source": [
    "> **Problem 6.b.** What is the sum of the counts list?  (This is a good sanity check that you are doing things right.)"
   ]
  },
  {
   "cell_type": "code",
   "execution_count": 19,
   "metadata": {
    "ExecuteTime": {
     "end_time": "2020-09-18T20:43:49.347316Z",
     "start_time": "2020-09-18T20:43:49.299954Z"
    }
   },
   "outputs": [
    {
     "name": "stdout",
     "output_type": "stream",
     "text": [
      "There were 100 experiments counted! (Should be 100!)\n"
     ]
    }
   ],
   "source": [
    "print(f\"There were {np.sum(N_obs_outcomes)} experiments counted! (Should be {N_exp}!)\")"
   ]
  },
  {
   "cell_type": "markdown",
   "metadata": {},
   "source": [
    "> **Problem 6.c.** Based on your data, what is the probability of getting 0 heads?  1 heads?  2 heads?  That is, if I randomly grabbed one of your outcomes out of a bag, how often would I get $k=4$ heads?\n",
    "\n",
    "Similar to the previous problem, we can convert between *number* and *probability* by dividing by the number of experiments.  That is, out of 100 experiments, we saw none that had 0 heads, so the estimated probability of 0 heads is 0%."
   ]
  },
  {
   "cell_type": "code",
   "execution_count": 20,
   "metadata": {
    "ExecuteTime": {
     "end_time": "2020-09-18T20:43:49.398115Z",
     "start_time": "2020-09-18T20:43:49.349142Z"
    }
   },
   "outputs": [
    {
     "name": "stdout",
     "output_type": "stream",
     "text": [
      "The probability of 0 Heads is 0!\n",
      "The probability of 1 Heads is 0!\n",
      "The probability of 2 Heads is 0.01!\n",
      "The probability of 3 Heads is 0.04!\n",
      "The probability of 4 Heads is 0.1!\n",
      "The probability of 5 Heads is 0.19!\n",
      "The probability of 6 Heads is 0.26!\n",
      "The probability of 7 Heads is 0.21!\n",
      "The probability of 8 Heads is 0.16!\n",
      "The probability of 9 Heads is 0.01!\n",
      "The probability of 10 Heads is 0.02!\n"
     ]
    }
   ],
   "source": [
    "for outcome in range(N_coins + 1):\n",
    "    p_matching = np.sum(obs_heads == outcome) / N_exp\n",
    "    print(f\"The probability of {outcome} Heads is {p_matching:.3g}!\")"
   ]
  },
  {
   "cell_type": "markdown",
   "metadata": {},
   "source": [
    "> **Problem 6.d.** Generate a list of the *probabilities* of each of your outcomes.  Use this list to show the **PDF** of your data.  Using your PDF, replicate your earlier annotated figure.  Confirm that the sum of your probabilities is 1."
   ]
  },
  {
   "cell_type": "code",
   "execution_count": 21,
   "metadata": {
    "ExecuteTime": {
     "end_time": "2020-09-18T20:43:51.626527Z",
     "start_time": "2020-09-18T20:43:49.400001Z"
    }
   },
   "outputs": [
    {
     "name": "stdout",
     "output_type": "stream",
     "text": [
      "The total likelihood of the outcomes is 1\n"
     ]
    },
    {
     "data": {
      "image/png": "[encoded data removed]",
      "text/plain": [
       "<Figure size 864x504 with 1 Axes>"
      ]
     },
     "metadata": {
      "needs_background": "light"
     },
     "output_type": "display_data"
    }
   ],
   "source": [
    "outcomes = np.arange(N_coins + 1)\n",
    "prob_outcomes = np.zeros_like(outcomes).astype(float) ## NOTE THIS!\n",
    "for outcome in outcomes:\n",
    "    p_matching = np.sum(obs_heads == outcome) / N_exp\n",
    "    prob_outcomes[outcome] = p_matching\n",
    "    \n",
    "print(f\"The total likelihood of the outcomes is {np.sum(prob_outcomes):.3g}\")\n",
    "    \n",
    "fig, ax = plt.subplots(1, 1, figsize=(12, 7))\n",
    "\n",
    "_ = ax.bar(outcomes, prob_outcomes, width=1, label='Data')\n",
    "\n",
    "ylim = ax.get_ylim()\n",
    "\n",
    "_ = ax.vlines(mean_N_heads, ymin=ylim[0], ymax=ylim[1], color='r',\n",
    "              label=f\"Mean = {mean_N_heads:.2f}\")\n",
    "\n",
    "_ = ax.set_ylim(ylim)\n",
    "\n",
    "_ = ax.axvline(median_N_heads, color='purple',\n",
    "               label=f\"Median = {median_N_heads:.2f}\")\n",
    "\n",
    "_ = ax.axvline(mode_N_heads, color='yellow',\n",
    "               label=f\"Mode = {mode_N_heads:.2f}\")\n",
    "\n",
    "_ = ax.axvline(mean_N_heads-std_N_heads,\n",
    "               color='orange',\n",
    "               label=f\"Std Dev = {std_N_heads:.2f}\")\n",
    "_ = ax.axvline(mean_N_heads+std_N_heads,\n",
    "               color='orange')\n",
    "\n",
    "_ = ax.set_xlabel(\"Number of Heads\", fontsize=24)\n",
    "_ = ax.set_ylabel(\"Probability of Observing\", fontsize=24)\n",
    "\n",
    "_ = ax.legend(fontsize=16)\n",
    "\n",
    "_ = ax.set_xticks(outcomes)\n",
    "\n",
    "fig.tight_layout()\n",
    "fig.savefig(\"Annotated_CoinFlip_Histogram_Normed.png\", format='png', dpi=600)"
   ]
  },
  {
   "cell_type": "markdown",
   "metadata": {},
   "source": [
    "> **Problem 6.e.** Compare your figure to one generated by `sns.histplot` or `plt.hist`.  Are the bins, bar heights, and other features the same?  Describe any discrepancies or similarities.  In `sns.distplot`, what is the overlaid line?\n",
    "\n",
    "If we provide bin edges, we can make the output of `histplot` match our bar plot."
   ]
  },
  {
   "cell_type": "code",
   "execution_count": 22,
   "metadata": {
    "ExecuteTime": {
     "end_time": "2020-09-18T20:43:51.932521Z",
     "start_time": "2020-09-18T20:43:51.628328Z"
    }
   },
   "outputs": [
    {
     "data": {
      "image/png": "[encoded data removed]",
      "text/plain": [
       "<Figure size 864x504 with 1 Axes>"
      ]
     },
     "metadata": {
      "needs_background": "light"
     },
     "output_type": "display_data"
    }
   ],
   "source": [
    "fig, ax = plt.subplots(1, 1, figsize=(12, 7))\n",
    "\n",
    "bins = np.arange(-0.5, 11)\n",
    "_ = sns.histplot(obs_heads, ax=ax, bins=bins, stat='probability')"
   ]
  },
  {
   "cell_type": "code",
   "execution_count": null,
   "metadata": {},
   "outputs": [],
   "source": []
  }
 ],
 "metadata": {
  "hide_input": false,
  "kernelspec": {
   "display_name": "Python 3",
   "language": "python",
   "name": "python3"
  },
  "language_info": {
   "codemirror_mode": {
    "name": "ipython",
    "version": 3
   },
   "file_extension": ".py",
   "mimetype": "text/x-python",
   "name": "python",
   "nbconvert_exporter": "python",
   "pygments_lexer": "ipython3",
   "version": "3.6.8"
  },
  "latex_envs": {
   "LaTeX_envs_menu_present": true,
   "autoclose": false,
   "autocomplete": true,
   "bibliofile": "biblio.bib",
   "cite_by": "apalike",
   "current_citInitial": 1,
   "eqLabelWithNumbers": true,
   "eqNumInitial": 1,
   "hotkeys": {
    "equation": "Ctrl-E",
    "itemize": "Ctrl-I"
   },
   "labels_anchors": false,
   "latex_user_defs": false,
   "report_style_numbering": false,
   "user_envs_cfg": false
  },
  "toc": {
   "base_numbering": 1,
   "nav_menu": {},
   "number_sections": true,
   "sideBar": false,
   "skip_h1_title": false,
   "title_cell": "Table of Contents",
   "title_sidebar": "Contents",
   "toc_cell": false,
   "toc_position": {},
   "toc_section_display": true,
   "toc_window_display": false
  },
  "varInspector": {
   "cols": {
    "lenName": 16,
    "lenType": 16,
    "lenVar": 40
   },
   "kernels_config": {
    "python": {
     "delete_cmd_postfix": "",
     "delete_cmd_prefix": "del ",
     "library": "var_list.py",
     "varRefreshCmd": "print(var_dic_list())"
    },
    "r": {
     "delete_cmd_postfix": ") ",
     "delete_cmd_prefix": "rm(",
     "library": "var_list.r",
     "varRefreshCmd": "cat(var_dic_list()) "
    }
   },
   "types_to_exclude": [
    "module",
    "function",
    "builtin_function_or_method",
    "instance",
    "_Feature"
   ],
   "window_display": false
  }
 },
 "nbformat": 4,
 "nbformat_minor": 4
}
